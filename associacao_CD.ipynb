{
 "cells": [
  {
   "cell_type": "code",
   "execution_count": 1,
   "id": "08f852da",
   "metadata": {},
   "outputs": [],
   "source": [
    "import pandas as pd\n",
    "from mlxtend.frequent_patterns import fpgrowth, association_rules\n",
    "from mlxtend.preprocessing import TransactionEncoder"
   ]
  },
  {
   "cell_type": "code",
   "execution_count": 2,
   "id": "f6ebc500",
   "metadata": {},
   "outputs": [],
   "source": [
    "# 1. Carregar os dados\n",
    "arquivo = \"dados_limpos.csv\"\n",
    "dados = pd.read_csv(arquivo)"
   ]
  },
  {
   "cell_type": "code",
   "execution_count": 3,
   "id": "0afa3cab",
   "metadata": {},
   "outputs": [],
   "source": [
    "# 2. Organizar os produtos por transação\n",
    "compras = dados.groupby(\"id_da_compra\")[\"produto\"].agg(list)"
   ]
  },
  {
   "cell_type": "code",
   "execution_count": 4,
   "id": "35e2b998",
   "metadata": {},
   "outputs": [],
   "source": [
    "# 3. Filtrar compras com mais de um item\n",
    "compras_validas = compras[compras.apply(lambda itens: len(set(itens)) > 1)]"
   ]
  },
  {
   "cell_type": "code",
   "execution_count": 5,
   "id": "dd4b2d42",
   "metadata": {},
   "outputs": [
    {
     "name": "stdout",
     "output_type": "stream",
     "text": [
      "Poucas transações válidas. Gerando dados simulados...\n"
     ]
    }
   ],
   "source": [
    "# 4. Simular dados caso não haja transações suficientes\n",
    "if compras_validas.empty:\n",
    "    print(\"Poucas transações válidas. Gerando dados simulados...\")\n",
    "    simulado = dados.sample(frac=1).reset_index(drop=True)\n",
    "    simulado[\"compra_id_fake\"] = simulado.index // 5\n",
    "    compras_validas = simulado.groupby(\"compra_id_fake\")[\"produto\"].agg(list)"
   ]
  },
  {
   "cell_type": "code",
   "execution_count": 6,
   "id": "06797743",
   "metadata": {},
   "outputs": [],
   "source": [
    "# 5. Transformar dados em formato binário (one-hot)\n",
    "encoder = TransactionEncoder()\n",
    "one_hot = encoder.fit_transform(compras_validas)\n",
    "df_binario = pd.DataFrame(one_hot, columns=encoder.columns_)"
   ]
  },
  {
   "cell_type": "code",
   "execution_count": 7,
   "id": "03255622",
   "metadata": {},
   "outputs": [],
   "source": [
    "# 6. Descobrir itens frequentes com FP-Growth\n",
    "frequentes = fpgrowth(df_binario, min_support=0.05, use_colnames=True)"
   ]
  },
  {
   "cell_type": "code",
   "execution_count": 8,
   "id": "e8946aae",
   "metadata": {},
   "outputs": [
    {
     "name": "stdout",
     "output_type": "stream",
     "text": [
      "Total de regras relevantes encontradas: 1080\n",
      "                                 antecedents  \\\n",
      "1079                         (condicionador)   \n",
      "0                                 (sabonete)   \n",
      "1                                 (presunto)   \n",
      "2                           (leite integral)   \n",
      "3                                 (presunto)   \n",
      "4                           (leite integral)   \n",
      "5                                 (sabonete)   \n",
      "6                 (leite integral, sabonete)   \n",
      "1063  (shampoo, condicionador, refrigerante)   \n",
      "1062   (shampoo, condicionador, sabao em po)   \n",
      "\n",
      "                                            consequents   support  confidence  \\\n",
      "1079  (pasta de dente, shampoo, refrigerante, sabao ...  0.142857         1.0   \n",
      "0                                            (presunto)  0.142857         1.0   \n",
      "1                                            (sabonete)  0.142857         1.0   \n",
      "2                                            (presunto)  0.142857         1.0   \n",
      "3                                      (leite integral)  0.142857         1.0   \n",
      "4                                            (sabonete)  0.142857         1.0   \n",
      "5                                      (leite integral)  0.142857         1.0   \n",
      "6                                            (presunto)  0.142857         1.0   \n",
      "1063                      (pasta de dente, sabao em po)  0.142857         1.0   \n",
      "1062                     (pasta de dente, refrigerante)  0.142857         1.0   \n",
      "\n",
      "      lift  \n",
      "1079   7.0  \n",
      "0      7.0  \n",
      "1      7.0  \n",
      "2      7.0  \n",
      "3      7.0  \n",
      "4      7.0  \n",
      "5      7.0  \n",
      "6      7.0  \n",
      "1063   7.0  \n",
      "1062   7.0  \n",
      "As regras foram salvas em 'regras_associacao.csv'.\n"
     ]
    }
   ],
   "source": [
    "# 7. Verificar se há itens frequentes\n",
    "if frequentes.empty:\n",
    "    print(\"Nenhum item frequente foi encontrado. Tente reduzir o min_support.\")\n",
    "else:\n",
    "    # 8. Gerar regras de associação com confiança mínima de 20%\n",
    "    regras = association_rules(frequentes, metric=\"confidence\", min_threshold=0.2)\n",
    "\n",
    "    # 9. Filtrar regras com qualidade (lift > 1 e confiança >= 0.2)\n",
    "    regras_filtradas = regras[[\"antecedents\", \"consequents\", \"support\", \"confidence\", \"lift\"]]\n",
    "    regras_filtradas = regras_filtradas[\n",
    "        (regras_filtradas[\"lift\"] > 1) & (regras_filtradas[\"confidence\"] >= 0.2)\n",
    "    ].sort_values(by=\"lift\", ascending=False)\n",
    "\n",
    "    # 10. Exibir resumo das regras encontradas\n",
    "    print(f\"Total de regras relevantes encontradas: {len(regras_filtradas)}\")\n",
    "    print(regras_filtradas.head(10))\n",
    "\n",
    "    # 11. Exportar as regras para um arquivo CSV\n",
    "    regras_filtradas.to_csv(\"regras_associacao.csv\", index=False)\n",
    "    print(\"As regras foram salvas em 'regras_associacao.csv'.\")\n"
   ]
  },
  {
   "cell_type": "code",
   "execution_count": 9,
   "id": "1bfe6bd7",
   "metadata": {},
   "outputs": [
    {
     "name": "stdout",
     "output_type": "stream",
     "text": [
      "\n",
      "Top 10 Combos de Produtos (por Lift):\n",
      "                        combo   support  confidence  lift\n",
      "0         sabonete → presunto  0.142857         1.0   7.0\n",
      "1         presunto → sabonete  0.142857         1.0   7.0\n",
      "2   leite integral → presunto  0.142857         1.0   7.0\n",
      "3   presunto → leite integral  0.142857         1.0   7.0\n",
      "4   leite integral → sabonete  0.142857         1.0   7.0\n",
      "5   sabonete → leite integral  0.142857         1.0   7.0\n",
      "55            presunto → cafe  0.142857         1.0   7.0\n",
      "54            cafe → presunto  0.142857         1.0   7.0\n",
      "53      leite integral → cafe  0.142857         1.0   7.0\n",
      "52      cafe → leite integral  0.142857         1.0   7.0\n",
      "Arquivo 'combos_top10.csv' salvo com sucesso!\n"
     ]
    },
    {
     "name": "stderr",
     "output_type": "stream",
     "text": [
      "C:\\Users\\Breno\\AppData\\Local\\Temp\\ipykernel_2852\\1351044807.py:9: SettingWithCopyWarning: \n",
      "A value is trying to be set on a copy of a slice from a DataFrame.\n",
      "Try using .loc[row_indexer,col_indexer] = value instead\n",
      "\n",
      "See the caveats in the documentation: https://pandas.pydata.org/pandas-docs/stable/user_guide/indexing.html#returning-a-view-versus-a-copy\n",
      "  regras_pares[\"combo\"] = regras_pares.apply(\n"
     ]
    }
   ],
   "source": [
    "#Combos frequentes de produtos (pares mais comuns)\n",
    "# Filtrar apenas regras com 2 itens (par de produtos)\n",
    "regras_pares = regras_filtradas[\n",
    "    (regras_filtradas[\"antecedents\"].apply(len) == 1) &\n",
    "    (regras_filtradas[\"consequents\"].apply(len) == 1)\n",
    "]\n",
    "\n",
    "# Criar string com o combo e mostrar top 10\n",
    "regras_pares[\"combo\"] = regras_pares.apply(\n",
    "    lambda row: f\"{list(row['antecedents'])[0]} → {list(row['consequents'])[0]}\", axis=1\n",
    ")\n",
    "\n",
    "top_combos = regras_pares[[\"combo\", \"support\", \"confidence\", \"lift\"]].sort_values(by=\"lift\", ascending=False).head(10)\n",
    "\n",
    "print(\"\\nTop 10 Combos de Produtos (por Lift):\")\n",
    "print(top_combos)\n",
    "\n",
    "top_combos.to_csv(\"combos_top10.csv\", index=False)\n",
    "print(\"Arquivo 'combos_top10.csv' salvo com sucesso!\")\n"
   ]
  },
  {
   "cell_type": "code",
   "execution_count": 10,
   "id": "e4914fe4",
   "metadata": {},
   "outputs": [
    {
     "name": "stdout",
     "output_type": "stream",
     "text": [
      "\n",
      "Produtos com maior lift médio:\n",
      "produto\n",
      "acucar           7.0\n",
      "agua mineral     7.0\n",
      "amaciante        7.0\n",
      "arroz            7.0\n",
      "cafe             7.0\n",
      "carvao           7.0\n",
      "cerveja          7.0\n",
      "condicionador    7.0\n",
      "desinfetante     7.0\n",
      "detergente       7.0\n",
      "Name: lift, dtype: float64\n",
      "Arquivo 'produtos_lift_medio.csv' salvo com sucesso!\n"
     ]
    }
   ],
   "source": [
    "#Produtos com maior Lift médio em regras\n",
    "# Criar lista com todos produtos envolvidos e seus lifts\n",
    "lift_por_produto = []\n",
    "\n",
    "for _, linha in regras_filtradas.iterrows():\n",
    "    for item in linha[\"antecedents\"].union(linha[\"consequents\"]):\n",
    "        lift_por_produto.append((item, linha[\"lift\"]))\n",
    "\n",
    "# Calcular lift médio por produto\n",
    "df_lift = pd.DataFrame(lift_por_produto, columns=[\"produto\", \"lift\"])\n",
    "media_lift = df_lift.groupby(\"produto\")[\"lift\"].mean().sort_values(ascending=False).head(10)\n",
    "\n",
    "# Mostrar resultado\n",
    "print(\"\\nProdutos com maior lift médio:\")\n",
    "print(media_lift)\n",
    "\n",
    "media_lift.to_csv(\"produtos_lift_medio.csv\", header=[\"lift_medio\"])\n",
    "print(\"Arquivo 'produtos_lift_medio.csv' salvo com sucesso!\")\n"
   ]
  }
 ],
 "metadata": {
  "kernelspec": {
   "display_name": "Python 3",
   "language": "python",
   "name": "python3"
  },
  "language_info": {
   "codemirror_mode": {
    "name": "ipython",
    "version": 3
   },
   "file_extension": ".py",
   "mimetype": "text/x-python",
   "name": "python",
   "nbconvert_exporter": "python",
   "pygments_lexer": "ipython3",
   "version": "3.10.11"
  }
 },
 "nbformat": 4,
 "nbformat_minor": 5
}
